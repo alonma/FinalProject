{
 "cells": [
  {
   "cell_type": "markdown",
   "metadata": {
    "collapsed": false
   },
   "source": [
    "# Movies Data Project\n",
    "\n",
    "## Miri Hazanov, Alon Maharshak\n",
    "\n",
    "### First step-collect and preapre the data\n",
    "\n"
   ]
  },
  {
   "cell_type": "markdown",
   "metadata": {
    "collapsed": false
   },
   "source": [
    "#### During this project we will work with the \"Cornell Movie-Dialogs Corpus\" created by the Cornell University\n",
    "\n",
    "Our first step is to understand the data.\n",
    "\n",
    "* Import the relevent Packeges \n",
    "* Open the movie titles files and the movie lines file."
   ]
  },
  {
   "cell_type": "code",
   "execution_count": 25,
   "metadata": {
    "collapsed": false
   },
   "outputs": [],
   "source": [
    "import pandas as pd\n",
    "import nltk\n",
    "import re\n",
    "import string \n",
    "\n",
    "fileName='C:/Users/Alon/Desktop/Alon/School/4th year/SemesterB/Data science/Project/Data/cornell movie-dialogs corpus/movie_lines.txt'\n",
    "with open(fileName) as f:\n",
    "    lines = f.readlines()\n",
    "fileName='C:/Users/Alon/Desktop/Alon/School/4th year/SemesterB/Data science/Project/Data/cornell movie-dialogs corpus/movie_titles_metadata.txt'\n",
    "with open(fileName) as f:\n",
    "    titles = f.readlines()"
   ]
  },
  {
   "cell_type": "markdown",
   "metadata": {},
   "source": [
    "Now lets print an exapmle so we can see how our meta data and raw data looks like"
   ]
  },
  {
   "cell_type": "code",
   "execution_count": 15,
   "metadata": {
    "collapsed": false
   },
   "outputs": [
    {
     "name": "stdout",
     "output_type": "stream",
     "text": [
      "m0 +++$+++ 10 things i hate about you +++$+++ 1999 +++$+++ 6.90 +++$+++ 62847 +++$+++ ['comedy', 'romance']\n",
      "\n",
      "L1045 +++$+++ u0 +++$+++ m0 +++$+++ BIANCA +++$+++ They do not!\n",
      "\n"
     ]
    }
   ],
   "source": [
    "print(titles[0])\n",
    "print(lines[0])"
   ]
  },
  {
   "cell_type": "markdown",
   "metadata": {},
   "source": [
    "As we can see, the data has a '+++$+++' seperator, so now we can start work on the data.\n",
    "\n",
    "Our stages we'll be:\n",
    "* Create a list of each genre using the generes list in the titles file\n",
    "* Get the title with the most lines in each genre so well have a lot of lines to work with\n",
    "* Clean the data, getting only the movie line after cleaning of lower case and other unnecessary marks.\n",
    "* Create a csv file with the Line, movie name and movie genre.\n",
    "\n",
    "The reason we are using the Genere factor is because we want the movies to have big diffrences in style, so we can better train the model later."
   ]
  },
  {
   "cell_type": "markdown",
   "metadata": {},
   "source": [
    "### Create list function:\n",
    "returns a list of all the movie id's that are relevent to a selected genre."
   ]
  },
  {
   "cell_type": "code",
   "execution_count": 26,
   "metadata": {
    "collapsed": true
   },
   "outputs": [],
   "source": [
    "def createList(genre):\n",
    "    ans=[]\n",
    "    for title in titles:\n",
    "        att=title.split('+++$+++')\n",
    "        if genre in att[5]:\n",
    "            ans.append(att[0])\n",
    "    return ans"
   ]
  },
  {
   "cell_type": "markdown",
   "metadata": {},
   "source": [
    "### Get the movie with the most lines function"
   ]
  },
  {
   "cell_type": "code",
   "execution_count": 27,
   "metadata": {
    "collapsed": true
   },
   "outputs": [],
   "source": [
    "def getMaxLines(movielist):\n",
    "    x=0\n",
    "    maxMovie=''\n",
    "    for movie in movielist:\n",
    "        movieline='+++$+++ '+movie+'+++$+++'\n",
    "        movieLines=[line for line in lines if movieline in line]\n",
    "        if len(movieLines)>x:\n",
    "            x=len(movieLines)\n",
    "            maxMovie=movie\n",
    "    return maxMovie"
   ]
  },
  {
   "cell_type": "markdown",
   "metadata": {},
   "source": [
    "### Clean the movie data function\n",
    "\n",
    "* takes the raw line, strips only the movie line.\n",
    "* remove from the movie line unnecessary marks and swtich to lower case \n",
    "* strip the movie name \n",
    "* Check the parameter K, that tells you how many sentences you want to put together\n",
    "\n",
    "Returns a tuple of the movie name + a list of all the movie lines(clean)"
   ]
  },
  {
   "cell_type": "code",
   "execution_count": 28,
   "metadata": {
    "collapsed": true
   },
   "outputs": [],
   "source": [
    "def cleanMovie(movie,k):\n",
    "    num=int(movie[1:])\n",
    "    movieLinesRaw=[line for line in lines if '+++$+++ '+ movie+'+++$+++' in line]\n",
    "    MovieLinesClean=[]\n",
    "    results=[]\n",
    "    for line in movieLinesRaw:\n",
    "         att=line.split('+++$+++')\n",
    "         MovieLinesClean.append(att[4])\n",
    "    returnLines=[]\n",
    "    att=titles[num].split('+++$+++')\n",
    "    results.append(att[1])\n",
    "    for line in MovieLinesClean:\n",
    "        line=line.lower()\n",
    "        for char in string.punctuation:\n",
    "            if char!=\"'\":\n",
    "                line = line.replace(char, ' ')\n",
    "        line=' '.join(line.split())\n",
    "        returnLines.append(line)\n",
    "    \n",
    "    new_results=[]\n",
    "    if k>1:\n",
    "        for i in range(len(returnLines)-1):\n",
    "            line=''\n",
    "            if i%k==0:\n",
    "                line=returnLines[i]+' '+returnLines[i+1]\n",
    "                new_results.append(line)\n",
    "        results.append(new_results)\n",
    "    else:\n",
    "        results.append(returnLines)\n",
    "    return results"
   ]
  },
  {
   "cell_type": "markdown",
   "metadata": {},
   "source": [
    "### Create CSV files function:"
   ]
  },
  {
   "cell_type": "code",
   "execution_count": 29,
   "metadata": {
    "collapsed": true
   },
   "outputs": [],
   "source": [
    "def makeCsv(movie,name,genre):\n",
    "    df=pd.DataFrame()\n",
    "    df['lines']=movie\n",
    "    df['name']=name\n",
    "    return df"
   ]
  },
  {
   "cell_type": "markdown",
   "metadata": {},
   "source": [
    "### Now we can activate all of the stages for all the 3 movies and concatene them into one csv file:"
   ]
  },
  {
   "cell_type": "code",
   "execution_count": 38,
   "metadata": {
    "collapsed": false
   },
   "outputs": [],
   "source": [
    "def makeDB(k):\n",
    "    adventureList=createList('adventure') \n",
    "    dramaList=createList('drama') \n",
    "    comedyList=createList('comedy') \n",
    "\n",
    "    maxAdventure=getMaxLines(adventureList)\n",
    "    maxDrama=getMaxLines(dramaList)\n",
    "    maxComedy=getMaxLines(comedyList)\n",
    "\n",
    "    movieDrama=cleanMovie(maxDrama,k)\n",
    "    movieComedy=cleanMovie(maxComedy,k)\n",
    "    movieAdventure=cleanMovie(maxAdventure,k)\n",
    "\n",
    "    dramaDf=makeCsv(movieDrama[1],movieDrama[0],'Drama')\n",
    "    comedyDf=makeCsv(movieComedy[1],movieComedy[0],'Comedy')\n",
    "    AdventureDf=makeCsv(movieAdventure[1],movieAdventure[0],'Adventure')\n",
    "    result = pd.concat([dramaDf,comedyDf,AdventureDf])\n",
    "    result.to_csv('C:/Users/Alon/Desktop/Alon/School/4th year/SemesterB/Data science/Project/Data/MoviesLines'+str(k)+'.csv')\n",
    "    return result"
   ]
  },
  {
   "cell_type": "markdown",
   "metadata": {},
   "source": [
    "## Second part of the project:\n",
    "### building calssification Model\n",
    "\n",
    "In this part we will take the list of movie lines that we collected earlier and try to build a classification model out of it.\n",
    "\n",
    "First we'll need to transform the vocabulary of words into features- we'll use the Bag of words technique.\n",
    "We'll use the CountVectorizer package and use a \"word\" analyzer to get maximun features for our model.\n",
    "We'll try to play with the K parameters and see when do we get the best results."
   ]
  },
  {
   "cell_type": "markdown",
   "metadata": {},
   "source": [
    "## createModels\n",
    "\n",
    "In this function we get the movie lines as a parameter and create diffrent models, returning the result.\n",
    "* We divide the set into train and test\n",
    "* we create each model, fit and score."
   ]
  },
  {
   "cell_type": "code",
   "execution_count": 31,
   "metadata": {
    "collapsed": false
   },
   "outputs": [],
   "source": [
    "from sklearn.ensemble import RandomForestClassifier\n",
    "from sklearn import svm \n",
    "from sklearn import neighbors \n",
    "from sklearn.tree import DecisionTreeClassifier\n",
    "from sklearn.linear_model import LogisticRegression\n",
    "from sklearn.cross_validation import KFold\n",
    "def createModels(result):\n",
    "    np.random.seed(123)\n",
    "    x = np.random.rand(len(result['lines'])) < 0.8\n",
    "    train_x = train_data_features[x]\n",
    "    test_x = train_data_features[~x]\n",
    "    train_y = result.loc[x,\"name\"]\n",
    "    test_y = result.loc[~x,\"name\"]\n",
    "\n",
    "    forest = RandomForestClassifier(n_estimators = 100) \n",
    "    model = forest.fit( train_x, train_y )\n",
    "    forestScore=model.score(test_x,test_y)\n",
    "    print(\"RandomForestClassifier: {}\".format(forestScore))\n",
    "\n",
    "    knn = neighbors.KNeighborsClassifier(3) \n",
    "    model=knn.fit(train_x, train_y) \n",
    "    knnScore = model.score(test_x,test_y) \n",
    "    print(\"knn: {}\".format(knnScore))\n",
    "\n",
    "    svml = svm.LinearSVC() \n",
    "    model=svml.fit(train_x, train_y) \n",
    "    svmScore=model.score(test_x,test_y)\n",
    "    print(\"svm: {}\".format(svmScore))\n",
    "\n",
    "    tree = DecisionTreeClassifier()\n",
    "    model = tree.fit( train_x, train_y )\n",
    "    treeScore=model.score(test_x,test_y)\n",
    "    print(\"DecisionTreeClassifier: {}\".format(treeScore))\n",
    "\n",
    "    Reg = LogisticRegression()\n",
    "    model = Reg.fit( train_x, train_y )\n",
    "    RegScore=model.score(test_x,test_y)\n",
    "    print(\"LogisticRegression: {}\".format(RegScore))\n",
    "    data=[knnScore,forestScore,svmScore,treeScore,RegScore]\n",
    "    return data"
   ]
  },
  {
   "cell_type": "markdown",
   "metadata": {},
   "source": [
    "### Visualization:\n",
    "\n",
    "Thiss function gets all of the models scores and create a bar graph so we can see which model is best"
   ]
  },
  {
   "cell_type": "code",
   "execution_count": 33,
   "metadata": {
    "collapsed": false
   },
   "outputs": [],
   "source": [
    "def createPlot(data):\n",
    "    import matplotlib.pyplot as plt\n",
    "    fig, ax = plt.subplots()\n",
    "    ax.set_ylabel('Scores')\n",
    "    plt.xlabel('Model')\n",
    "    ax.set_title('Scores by model')\n",
    "    index = np.arange(5)\n",
    "    plt.bar(index,data,alpha=0.4, color='r',label='Model')\n",
    "    ax.set_xticklabels(('G1', 'KNN', 'RandomForest', 'SVM', 'DecisionTree','LogisticReg'))\n",
    "    plt.tight_layout()\n",
    "    plt.show()"
   ]
  },
  {
   "cell_type": "markdown",
   "metadata": {},
   "source": [
    "## Build the Model:\n",
    "### Main program\n",
    "\n",
    "After we created all the function that we need we'll do the following steps.\n",
    "1. create a data set, each time using a difftrent K(how many sentences do we want to put together)\n",
    "2. Create the BOW with 5000 features\n",
    "3. Create the models and return the scores for each one.\n",
    "4. Plot the scores and see which model is the best."
   ]
  },
  {
   "cell_type": "code",
   "execution_count": 39,
   "metadata": {
    "collapsed": false
   },
   "outputs": [
    {
     "name": "stdout",
     "output_type": "stream",
     "text": [
      "(3997, 2886)\n",
      "RandomForestClassifier: 0.6326276463262764\n",
      "knn: 0.48816936488169366\n",
      "svm: 0.6737235367372354\n",
      "DecisionTreeClassifier: 0.5529265255292652\n",
      "LogisticRegression: 0.6787048567870486\n"
     ]
    },
    {
     "data": {
      "image/png": "[encoded data removed]",
      "text/plain": [
       "<matplotlib.figure.Figure at 0x2e6c55fd320>"
      ]
     },
     "metadata": {},
     "output_type": "display_data"
    }
   ],
   "source": [
    "from sklearn.feature_extraction.text import CountVectorizer\n",
    "import numpy as np\n",
    "result=makeDB(1)\n",
    "vectorizer = CountVectorizer(analyzer = \"word\", tokenizer = None,preprocessor = None,stop_words = None,max_features = 5000)\n",
    "train_data_features = vectorizer.fit_transform(result['lines'])\n",
    "train_data_features = train_data_features.toarray()\n",
    "vocab = vectorizer.get_feature_names()\n",
    "dist = np.sum(train_data_features, axis=0)\n",
    "print(train_data_features.shape)\n",
    "data=createModels(result)\n",
    "createPlot(data)"
   ]
  },
  {
   "cell_type": "markdown",
   "metadata": {},
   "source": [
    "### We can see that when we address each sentence separately the highest score is 67.8% with the Logisitc Regression model.\n",
    "\n",
    "Now let's see what happen when we increase our K."
   ]
  },
  {
   "cell_type": "markdown",
   "metadata": {},
   "source": [
    "### We'll run a loop from 2 to 5, and see which K gives us the best reuslts"
   ]
  },
  {
   "cell_type": "code",
   "execution_count": 41,
   "metadata": {
    "collapsed": false
   },
   "outputs": [
    {
     "name": "stdout",
     "output_type": "stream",
     "text": [
      "(1998, 2886)\n",
      "RandomForestClassifier: 0.6539379474940334\n",
      "knn: 0.513126491646778\n",
      "svm: 0.7303102625298329\n",
      "DecisionTreeClassifier: 0.5465393794749404\n",
      "LogisticRegression: 0.747016706443914\n"
     ]
    },
    {
     "data": {
      "image/png": "[encoded data removed]",
      "text/plain": [
       "<matplotlib.figure.Figure at 0x2e6d861a160>"
      ]
     },
     "metadata": {},
     "output_type": "display_data"
    },
    {
     "name": "stdout",
     "output_type": "stream",
     "text": [
      "(1332, 2384)\n",
      "RandomForestClassifier: 0.6616541353383458\n",
      "knn: 0.48120300751879697\n",
      "svm: 0.6766917293233082\n",
      "DecisionTreeClassifier: 0.5902255639097744\n",
      "LogisticRegression: 0.7218045112781954\n"
     ]
    },
    {
     "data": {
      "image/png": "[encoded data removed]",
      "text/plain": [
       "<matplotlib.figure.Figure at 0x2e6c94b0588>"
      ]
     },
     "metadata": {},
     "output_type": "display_data"
    },
    {
     "name": "stdout",
     "output_type": "stream",
     "text": [
      "(1000, 1980)\n",
      "RandomForestClassifier: 0.7171717171717171\n",
      "knn: 0.5252525252525253\n",
      "svm: 0.696969696969697\n",
      "DecisionTreeClassifier: 0.5505050505050505\n",
      "LogisticRegression: 0.7525252525252525\n"
     ]
    },
    {
     "data": {
      "image/png": "[encoded data removed]",
      "text/plain": [
       "<matplotlib.figure.Figure at 0x2e6d8df4c50>"
      ]
     },
     "metadata": {},
     "output_type": "display_data"
    },
    {
     "name": "stdout",
     "output_type": "stream",
     "text": [
      "(800, 1780)\n",
      "RandomForestClassifier: 0.6024096385542169\n",
      "knn: 0.4759036144578313\n",
      "svm: 0.6686746987951807\n",
      "DecisionTreeClassifier: 0.5120481927710844\n",
      "LogisticRegression: 0.6746987951807228\n"
     ]
    },
    {
     "data": {
      "image/png": "[encoded data removed]",
      "text/plain": [
       "<matplotlib.figure.Figure at 0x2e6cd90b2e8>"
      ]
     },
     "metadata": {},
     "output_type": "display_data"
    }
   ],
   "source": [
    "for i in range(2,6):\n",
    "    result=makeDB(i)\n",
    "    vectorizer = CountVectorizer(analyzer = \"word\", tokenizer = None,preprocessor = None,stop_words = None,max_features = 5000)\n",
    "    train_data_features = vectorizer.fit_transform(result['lines'])\n",
    "    train_data_features = train_data_features.toarray()\n",
    "    vocab = vectorizer.get_feature_names()\n",
    "    dist = np.sum(train_data_features, axis=0)\n",
    "    print(train_data_features.shape)\n",
    "    data=createModels(result)\n",
    "    createPlot(data)"
   ]
  },
  {
   "cell_type": "markdown",
   "metadata": {},
   "source": [
    "## Results:\n",
    "\n",
    "1. AS we can see The scores were better with higher K until we reached the value of 5. \n",
    "2. In all of our model, Logistic regression was the best fit.\n",
    "3. the best score was 75.5% that was achived when K=4."
   ]
  }
 ],
 "metadata": {
  "kernelspec": {
   "display_name": "Python 3",
   "language": "python",
   "name": "python3"
  },
  "language_info": {
   "codemirror_mode": {
    "name": "ipython",
    "version": 3
   },
   "file_extension": ".py",
   "mimetype": "text/x-python",
   "name": "python",
   "nbconvert_exporter": "python",
   "pygments_lexer": "ipython3",
   "version": "3.6.0"
  }
 },
 "nbformat": 4,
 "nbformat_minor": 2
}
