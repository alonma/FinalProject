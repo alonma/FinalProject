{
 "cells": [
  {
   "cell_type": "markdown",
   "metadata": {
    "collapsed": false
   },
   "source": [
    "# Movies Data Project\n",
    "\n",
    "## Miri Hazanov, Alon Maharshak\n",
    "\n",
    "### First step-collect and preapre the data\n",
    "\n"
   ]
  },
  {
   "cell_type": "markdown",
   "metadata": {
    "collapsed": false
   },
   "source": [
    "#### During this project we will work with the \"Cornell Movie-Dialogs Corpus\" created by the Cornell University\n",
    "\n",
    "Our first step is to understand the data.\n",
    "\n",
    "* Import the relevent Packeges \n",
    "* Open the movie titles files and the movie lines file."
   ]
  },
  {
   "cell_type": "code",
   "execution_count": 127,
   "metadata": {
    "collapsed": false
   },
   "outputs": [],
   "source": [
    "import pandas as pd\n",
    "import nltk\n",
    "import re\n",
    "import string \n",
    "\n",
    "fileName='C:/Users/Lior/Desktop/FinalProject-master/FinalProject-master/movie_lines.txt'\n",
    "with open(fileName) as f:\n",
    "    lines = f.readlines()\n",
    "fileName='C:/Users/Lior/Desktop/FinalProject-master/FinalProject-master/movie_titles_metadata.txt'\n",
    "with open(fileName) as f:\n",
    "    titles = f.readlines()"
   ]
  },
  {
   "cell_type": "markdown",
   "metadata": {},
   "source": [
    "Now lets print an exapmle so we can see how our meta data and raw data looks like"
   ]
  },
  {
   "cell_type": "code",
   "execution_count": 128,
   "metadata": {
    "collapsed": false
   },
   "outputs": [
    {
     "name": "stdout",
     "output_type": "stream",
     "text": [
      "m0 +++$+++ 10 things i hate about you +++$+++ 1999 +++$+++ 6.90 +++$+++ 62847 +++$+++ ['comedy', 'romance']\n",
      "\n",
      "L1045 +++$+++ u0 +++$+++ m0 +++$+++ BIANCA +++$+++ They do not!\n",
      "\n"
     ]
    }
   ],
   "source": [
    "print(titles[0])\n",
    "print(lines[0])"
   ]
  },
  {
   "cell_type": "markdown",
   "metadata": {},
   "source": [
    "As we can see, the data has a '+++$+++' seperator, so now we can start work on the data.\n",
    "\n",
    "Our stages we'll be:\n",
    "* Create a list of each genre using the generes list in the titles file\n",
    "* Get the title with the most lines in each genre so well have a lot of lines to work with\n",
    "* Clean the data, getting only the movie line after cleaning of lower case and other unnecessary marks.\n",
    "* Create a csv file with the Line, movie name and movie genre.\n",
    "\n",
    "The reason we are using the Genere factor is because we want the movies to have big diffrences in style, so we can better train the model later."
   ]
  },
  {
   "cell_type": "markdown",
   "metadata": {},
   "source": [
    "### Create list function:\n",
    "returns a list of all the movie id's that are relevent to a selected genre."
   ]
  },
  {
   "cell_type": "code",
   "execution_count": 129,
   "metadata": {
    "collapsed": true
   },
   "outputs": [],
   "source": [
    "def createList(genre):\n",
    "    ans=[]\n",
    "    for title in titles:\n",
    "        att=title.split('+++$+++')\n",
    "        if genre in att[5]:\n",
    "            ans.append(att[0])\n",
    "    return ans"
   ]
  },
  {
   "cell_type": "markdown",
   "metadata": {},
   "source": [
    "### Get the movie with the most lines function"
   ]
  },
  {
   "cell_type": "code",
   "execution_count": 130,
   "metadata": {
    "collapsed": true
   },
   "outputs": [],
   "source": [
    "def getMaxLines(movielist):\n",
    "    x=0\n",
    "    maxMovie=''\n",
    "    for movie in movielist:\n",
    "        movieline='+++$+++ '+movie+'+++$+++'\n",
    "        movieLines=[line for line in lines if movieline in line]\n",
    "        if len(movieLines)>x:\n",
    "            x=len(movieLines)\n",
    "            maxMovie=movie\n",
    "    return maxMovie"
   ]
  },
  {
   "cell_type": "markdown",
   "metadata": {},
   "source": [
    "### Clean the movie data function\n",
    "\n",
    "* takes the raw line, strips only the movie line.\n",
    "* remove from the movie line unnecessary marks and swtich to lower case \n",
    "* strip the movie name \n",
    "* Check the parameter K, that tells you how many sentences you want to put together\n",
    "\n",
    "Returns a tuple of the movie name + a list of all the movie lines(clean)"
   ]
  },
  {
   "cell_type": "code",
   "execution_count": 131,
   "metadata": {
    "collapsed": true
   },
   "outputs": [],
   "source": [
    "def cleanMovie(movie,k):\n",
    "    num=int(movie[1:])\n",
    "    movieLinesRaw=[line for line in lines if '+++$+++ '+ movie+'+++$+++' in line]\n",
    "    MovieLinesClean=[]\n",
    "    results=[]\n",
    "    for line in movieLinesRaw:\n",
    "         att=line.split('+++$+++')\n",
    "         MovieLinesClean.append(att[4])\n",
    "    returnLines=[]\n",
    "    att=titles[num].split('+++$+++')\n",
    "    results.append(att[1])\n",
    "    for line in MovieLinesClean:\n",
    "        line=line.lower()\n",
    "        for char in string.punctuation:\n",
    "            if char!=\"'\":\n",
    "                line = line.replace(char, ' ')\n",
    "        line=' '.join(line.split())\n",
    "        returnLines.append(line)\n",
    "    \n",
    "    new_results=[]\n",
    "    if k>1:\n",
    "        for i in range(len(returnLines)-1):\n",
    "            line=''\n",
    "            if i%k==0:\n",
    "                line=returnLines[i]+' '+returnLines[i+1]\n",
    "                new_results.append(line)\n",
    "        results.append(new_results)\n",
    "    else:\n",
    "        results.append(returnLines)\n",
    "    return results"
   ]
  },
  {
   "cell_type": "markdown",
   "metadata": {},
   "source": [
    "### Create CSV files function:"
   ]
  },
  {
   "cell_type": "code",
   "execution_count": 132,
   "metadata": {
    "collapsed": true
   },
   "outputs": [],
   "source": [
    "def makeCsv(movie,name,genre):\n",
    "    df=pd.DataFrame()\n",
    "    df['lines']=movie\n",
    "    df['name']=name\n",
    "    return df"
   ]
  },
  {
   "cell_type": "markdown",
   "metadata": {},
   "source": [
    "### Now we can activate all of the stages for all the 3 movies and concatene them into one csv file:"
   ]
  },
  {
   "cell_type": "code",
   "execution_count": 133,
   "metadata": {
    "collapsed": false
   },
   "outputs": [],
   "source": [
    "def makeDB(k):\n",
    "    adventureList=createList('adventure') \n",
    "    dramaList=createList('drama') \n",
    "    comedyList=createList('comedy') \n",
    "\n",
    "    maxAdventure=getMaxLines(adventureList)\n",
    "    maxDrama=getMaxLines(dramaList)\n",
    "    maxComedy=getMaxLines(comedyList)\n",
    "\n",
    "    movieDrama=cleanMovie(maxDrama,k)\n",
    "    movieComedy=cleanMovie(maxComedy,k)\n",
    "    movieAdventure=cleanMovie(maxAdventure,k)\n",
    "\n",
    "    dramaDf=makeCsv(movieDrama[1],movieDrama[0],'Drama')\n",
    "    comedyDf=makeCsv(movieComedy[1],movieComedy[0],'Comedy')\n",
    "    AdventureDf=makeCsv(movieAdventure[1],movieAdventure[0],'Adventure')\n",
    "    result = pd.concat([dramaDf,comedyDf,AdventureDf])\n",
    "    result.to_csv('C:/Users/Lior/Desktop/FinalProject-master/FinalProject-master/MoviesLines'+str(k)+'.csv')\n",
    "    return result"
   ]
  },
  {
   "cell_type": "markdown",
   "metadata": {},
   "source": [
    "## Second part of the project:\n",
    "### building calssification Model\n",
    "\n",
    "In this part we will take the list of movie lines that we collected earlier and try to build a classification model out of it.\n",
    "\n",
    "First we'll need to transform the vocabulary of words into features- we'll use the Bag of words technique.\n",
    "We'll use the CountVectorizer package and use a \"word\" analyzer to get maximun features for our model.\n",
    "We'll try to play with the K parameters and see when do we get the best results."
   ]
  },
  {
   "cell_type": "markdown",
   "metadata": {},
   "source": [
    "## createModels\n",
    "\n",
    "In this function we get the movie lines as a parameter and create diffrent models, returning the result.\n",
    "* We divide the set into train and test\n",
    "* we create each model, fit and score."
   ]
  },
  {
   "cell_type": "code",
   "execution_count": 134,
   "metadata": {
    "collapsed": false
   },
   "outputs": [],
   "source": [
    "from sklearn.ensemble import RandomForestClassifier\n",
    "from sklearn import svm \n",
    "from sklearn import neighbors \n",
    "from sklearn.tree import DecisionTreeClassifier\n",
    "from sklearn.linear_model import LogisticRegression\n",
    "from sklearn.cross_validation import KFold\n",
    "def createModels(result):\n",
    "    np.random.seed(123)\n",
    "    x = np.random.rand(len(result['lines'])) < 0.8\n",
    "    train_x = train_data_features[x]\n",
    "    test_x = train_data_features[~x]\n",
    "    train_y = result.loc[x,\"name\"]\n",
    "    test_y = result.loc[~x,\"name\"]\n",
    "\n",
    "    forest = RandomForestClassifier(n_estimators = 100) \n",
    "    model = forest.fit( train_x, train_y )\n",
    "    forestScore=model.score(test_x,test_y)\n",
    "    print(\"RandomForestClassifier: {}\".format(forestScore))\n",
    "\n",
    "    knn = neighbors.KNeighborsClassifier(3) \n",
    "    model=knn.fit(train_x, train_y) \n",
    "    knnScore = model.score(test_x,test_y) \n",
    "    print(\"knn: {}\".format(knnScore))\n",
    "\n",
    "    svml = svm.LinearSVC() \n",
    "    model=svml.fit(train_x, train_y) \n",
    "    svmScore=model.score(test_x,test_y)\n",
    "    print(\"svm: {}\".format(svmScore))\n",
    "\n",
    "    tree = DecisionTreeClassifier()\n",
    "    model = tree.fit( train_x, train_y )\n",
    "    treeScore=model.score(test_x,test_y)\n",
    "    print(\"DecisionTreeClassifier: {}\".format(treeScore))\n",
    "\n",
    "    Reg = LogisticRegression()\n",
    "    model = Reg.fit( train_x, train_y )\n",
    "    RegScore=model.score(test_x,test_y)\n",
    "    print(\"LogisticRegression: {}\".format(RegScore))\n",
    "    data=[knnScore,forestScore,svmScore,treeScore,RegScore]\n",
    "    return data"
   ]
  },
  {
   "cell_type": "markdown",
   "metadata": {},
   "source": [
    "### Visualization:\n",
    "\n",
    "Thiss function gets all of the models scores and create a bar graph so we can see which model is best"
   ]
  },
  {
   "cell_type": "code",
   "execution_count": 135,
   "metadata": {
    "collapsed": false
   },
   "outputs": [],
   "source": [
    "def createPlot(data):\n",
    "    import matplotlib.pyplot as plt\n",
    "    fig, ax = plt.subplots()\n",
    "    ax.set_ylabel('Scores')\n",
    "    plt.xlabel('Model')\n",
    "    ax.set_title('Scores by model')\n",
    "    index = np.arange(5)\n",
    "    plt.bar(index,data,alpha=0.4, color='r',label='Model')\n",
    "    ax.set_xticklabels(('G1', 'KNN', 'RandomForest', 'SVM', 'DecisionTree','LogisticReg'))\n",
    "    plt.tight_layout()\n",
    "    plt.show()"
   ]
  },
  {
   "cell_type": "markdown",
   "metadata": {},
   "source": [
    "## Build the Model:\n",
    "### Main program\n",
    "\n",
    "After we created all the function that we need we'll do the following steps.\n",
    "1. create a data set, each time using a difftrent K(how many sentences do we want to put together)\n",
    "2. Create the BOW with 5000 features\n",
    "3. Create the models and return the scores for each one.\n",
    "4. Plot the scores and see which model is the best."
   ]
  },
  {
   "cell_type": "code",
   "execution_count": 136,
   "metadata": {
    "collapsed": false
   },
   "outputs": [
    {
     "name": "stdout",
     "output_type": "stream",
     "text": [
      "(3997L, 2886L)\n",
      "RandomForestClassifier: 0.632627646326\n",
      "knn: 0.488169364882\n",
      "svm: 0.673723536737\n",
      "DecisionTreeClassifier: 0.552926525529\n",
      "LogisticRegression: 0.678704856787\n"
     ]
    },
    {
     "data": {
      "image/png": "[encoded data removed]",
      "text/plain": [
       "<matplotlib.figure.Figure at 0x13504be0>"
      ]
     },
     "metadata": {},
     "output_type": "display_data"
    }
   ],
   "source": [
    "from sklearn.feature_extraction.text import CountVectorizer\n",
    "import numpy as np\n",
    "result=makeDB(1)\n",
    "vectorizer = CountVectorizer(analyzer = \"word\", tokenizer = None,preprocessor = None,stop_words = None,max_features = 5000)\n",
    "train_data_features = vectorizer.fit_transform(result['lines'])\n",
    "train_data_features = train_data_features.toarray()\n",
    "vocab = vectorizer.get_feature_names()\n",
    "dist = np.sum(train_data_features, axis=0)\n",
    "print(train_data_features.shape)\n",
    "data=createModels(result)\n",
    "createPlot(data)"
   ]
  },
  {
   "cell_type": "markdown",
   "metadata": {},
   "source": [
    "### We can see that when we address each sentence separately the highest score is 67.8% with the Logisitc Regression model.\n",
    "\n",
    "Now let's see what happen when we increase our K."
   ]
  },
  {
   "cell_type": "markdown",
   "metadata": {},
   "source": [
    "### We'll run a loop from 2 to 5, and see which K gives us the best reuslts"
   ]
  },
  {
   "cell_type": "code",
   "execution_count": 14,
   "metadata": {
    "collapsed": false
   },
   "outputs": [
    {
     "name": "stdout",
     "output_type": "stream",
     "text": [
      "(1998L, 2886L)\n",
      "RandomForestClassifier: 0.653937947494\n",
      "knn: 0.513126491647\n",
      "svm: 0.73031026253\n",
      "DecisionTreeClassifier: 0.546539379475\n",
      "LogisticRegression: 0.747016706444\n"
     ]
    },
    {
     "data": {
      "image/png": "[encoded data removed]",
      "text/plain": [
       "<matplotlib.figure.Figure at 0x118a59b0>"
      ]
     },
     "metadata": {},
     "output_type": "display_data"
    },
    {
     "name": "stdout",
     "output_type": "stream",
     "text": [
      "(1332L, 2384L)\n",
      "RandomForestClassifier: 0.661654135338\n",
      "knn: 0.481203007519\n",
      "svm: 0.676691729323\n",
      "DecisionTreeClassifier: 0.59022556391\n",
      "LogisticRegression: 0.721804511278\n"
     ]
    },
    {
     "data": {
      "image/png": "[encoded data removed]",
      "text/plain": [
       "<matplotlib.figure.Figure at 0x117d86a0>"
      ]
     },
     "metadata": {},
     "output_type": "display_data"
    },
    {
     "name": "stdout",
     "output_type": "stream",
     "text": [
      "(1000L, 1980L)\n",
      "RandomForestClassifier: 0.717171717172\n",
      "knn: 0.525252525253\n",
      "svm: 0.69696969697\n",
      "DecisionTreeClassifier: 0.550505050505\n",
      "LogisticRegression: 0.752525252525\n"
     ]
    },
    {
     "data": {
      "image/png": "[encoded data removed]",
      "text/plain": [
       "<matplotlib.figure.Figure at 0xc3af978>"
      ]
     },
     "metadata": {},
     "output_type": "display_data"
    },
    {
     "name": "stdout",
     "output_type": "stream",
     "text": [
      "(800L, 1780L)\n",
      "RandomForestClassifier: 0.602409638554\n",
      "knn: 0.475903614458\n",
      "svm: 0.668674698795\n",
      "DecisionTreeClassifier: 0.512048192771\n",
      "LogisticRegression: 0.674698795181\n"
     ]
    },
    {
     "data": {
      "image/png": "[encoded data removed]",
      "text/plain": [
       "<matplotlib.figure.Figure at 0xc3a3080>"
      ]
     },
     "metadata": {},
     "output_type": "display_data"
    }
   ],
   "source": [
    "for i in range(2,6):\n",
    "    result=makeDB(i)\n",
    "    vectorizer = CountVectorizer(analyzer = \"word\", tokenizer = None,preprocessor = None,stop_words = None,max_features = 5000)\n",
    "    train_data_features = vectorizer.fit_transform(result['lines'])\n",
    "    train_data_features = train_data_features.toarray()\n",
    "    vocab = vectorizer.get_feature_names()\n",
    "    dist = np.sum(train_data_features, axis=0)\n",
    "    print(train_data_features.shape)\n",
    "    data=createModels(result)\n",
    "    createPlot(data)"
   ]
  },
  {
   "cell_type": "markdown",
   "metadata": {},
   "source": [
    "## Results:\n",
    "\n",
    "1. AS we can see The scores were better with higher K until we reached the value of 5. \n",
    "2. In all of our model, Logistic regression was the best fit.\n",
    "3. the best score was 75.5% that was achived when K=4."
   ]
  },
  {
   "cell_type": "markdown",
   "metadata": {},
   "source": [
    "## Third and Forth part of the project:\n",
    "### building kares Model for generate sentences"
   ]
  },
  {
   "cell_type": "code",
   "execution_count": 140,
   "metadata": {
    "collapsed": false
   },
   "outputs": [],
   "source": [
    "import numpy as np\n",
    "import theano\n",
    "import keras\n",
    "import pandas as pd\n",
    "import random"
   ]
  },
  {
   "cell_type": "code",
   "execution_count": 141,
   "metadata": {
    "collapsed": false
   },
   "outputs": [],
   "source": [
    "from keras.models import Sequential\n",
    "from keras.layers.core import Dense, Activation, Flatten\n",
    "from keras.layers.wrappers import TimeDistributed\n",
    "from keras.layers.embeddings import Embedding\n",
    "from keras.layers.recurrent import LSTM\n",
    "from keras.preprocessing.text import Tokenizer\n",
    "from keras.preprocessing.text import text_to_word_sequence"
   ]
  },
  {
   "cell_type": "markdown",
   "metadata": {},
   "source": [
    "### After we finished importing all the data we can start preparing it."
   ]
  },
  {
   "cell_type": "markdown",
   "metadata": {},
   "source": [
    "## Create a model function\n",
    " We created a function that gets the movie text and create a squential nuernal network using embedding technique.\n",
    " \n",
    " We turn the text into word matrix, compile and fit the model."
   ]
  },
  {
   "cell_type": "code",
   "execution_count": 151,
   "metadata": {
    "collapsed": false
   },
   "outputs": [],
   "source": [
    "def makeModel(movie):\n",
    "    text2 = text_to_word_sequence(movie, lower=False, split=\" \") #using only 10000 first words\n",
    "    token = Tokenizer(nb_words=2000,char_level=False)\n",
    "    token.fit_on_texts(text2)\n",
    "    text_mtx = token.texts_to_matrix(text2, mode='binary')\n",
    "\n",
    "    text_mtx.shape\n",
    "\n",
    "    input_ = text_mtx[:-1]\n",
    "    output_ = text_mtx[1:]\n",
    "    input_.shape, output_.shape\n",
    "\n",
    "    model = Sequential()\n",
    "    model.add(Embedding(input_dim=input_.shape[1],output_dim= 42, input_length=input_.shape[1]))\n",
    "    model.add(Flatten())\n",
    "    model.add(Dense(output_.shape[1], activation='sigmoid'))\n",
    "    model.compile(loss='categorical_crossentropy', optimizer='rmsprop',metrics=[\"accuracy\"])\n",
    "    model.fit(input_, y=output_, batch_size=300, nb_epoch=7, verbose=1, validation_split=0.2)\n",
    "    return model"
   ]
  },
  {
   "cell_type": "markdown",
   "metadata": {},
   "source": [
    "## get next word function\n",
    "\n",
    "We'll create a function thet gets the word metrix and randommaly select a word from it in order to create a new sentence."
   ]
  },
  {
   "cell_type": "code",
   "execution_count": 206,
   "metadata": {
    "collapsed": true
   },
   "outputs": [],
   "source": [
    "def get_next(text,token,model,fullmtx,fullText):\n",
    "    tmp = text_to_word_sequence(text, lower=False, split=\" \")\n",
    "    tmp = token.texts_to_matrix(tmp, mode='binary')\n",
    "    p = model.predict(tmp)\n",
    "    x= np.random.random_sample()*1000\n",
    "    return fullText[int(x)]"
   ]
  },
  {
   "cell_type": "markdown",
   "metadata": {},
   "source": [
    "## Create new sentence.\n",
    "\n",
    "According to the movie text and the relevenat model for each movie, we're creating new sentences.\n",
    "\n",
    "1) total of 350 sentences for each movie.\n",
    "2) Length of sentence is between 2 and 12 word."
   ]
  },
  {
   "cell_type": "code",
   "execution_count": 208,
   "metadata": {
    "collapsed": false
   },
   "outputs": [],
   "source": [
    "def createSentences(model,movie):\n",
    "    text2 = text_to_word_sequence(movie, lower=False, split=\" \") #using only 10000 first words\n",
    "    token = Tokenizer(nb_words=2000,char_level=False)\n",
    "    token.fit_on_texts(text2)\n",
    "    text_mtx = token.texts_to_matrix(text2, mode='binary')\n",
    "    text_mtx.shape\n",
    "    word=\"b\"\n",
    "    newLine=[]\n",
    "    for j in range(0,350):\n",
    "        y=\"\"\n",
    "        k=int(random.random()*10+2)\n",
    "        for i in range(0,k):\n",
    "            word=get_next(word,token,model,text_mtx,text2)\n",
    "            y=y+' '+word\n",
    "        newLine.append(y)\n",
    "    \n",
    "    return newLine\n"
   ]
  },
  {
   "cell_type": "markdown",
   "metadata": {},
   "source": [
    "## Make it happen.\n",
    "\n",
    "Now we use the function that we created in order to:\n",
    "1) create one string for each movie\n",
    "2) create 3 models of each movie\n",
    "3) create new sentences for each movie and make them into a list"
   ]
  },
  {
   "cell_type": "code",
   "execution_count": 152,
   "metadata": {
    "collapsed": false
   },
   "outputs": [
    {
     "name": "stdout",
     "output_type": "stream",
     "text": [
      "Train on 13478 samples, validate on 3370 samples\n",
      "Epoch 1/7\n",
      "13478/13478 [==============================] - 321s - loss: 6.4801 - acc: 0.0146 - val_loss: 6.2197 - val_acc: 0.0145\n",
      "Epoch 2/7\n",
      "13478/13478 [==============================] - 319s - loss: 6.0435 - acc: 0.0174 - val_loss: 6.2399 - val_acc: 0.0582\n",
      "Epoch 3/7\n",
      "13478/13478 [==============================] - 319s - loss: 5.9135 - acc: 0.0507 - val_loss: 6.2828 - val_acc: 0.0582\n",
      "Epoch 4/7\n",
      "13478/13478 [==============================] - 319s - loss: 5.7432 - acc: 0.0507 - val_loss: 6.0929 - val_acc: 0.0582\n",
      "Epoch 5/7\n",
      "13478/13478 [==============================] - 319s - loss: 5.5315 - acc: 0.0507 - val_loss: 6.0181 - val_acc: 0.0608\n",
      "Epoch 6/7\n",
      "13478/13478 [==============================] - 320s - loss: 5.2741 - acc: 0.0881 - val_loss: 5.8455 - val_acc: 0.0994\n",
      "Epoch 7/7\n",
      "13478/13478 [==============================] - 320s - loss: 5.0126 - acc: 0.1134 - val_loss: 5.8379 - val_acc: 0.1083\n",
      "Train on 5605 samples, validate on 1402 samples\n",
      "Epoch 1/7\n",
      "5605/5605 [==============================] - 133s - loss: 7.1055 - acc: 0.0152 - val_loss: 6.8974 - val_acc: 0.0221\n",
      "Epoch 2/7\n",
      "5605/5605 [==============================] - 133s - loss: 6.3612 - acc: 0.0202 - val_loss: 7.0153 - val_acc: 0.0221\n",
      "Epoch 3/7\n",
      "5605/5605 [==============================] - 133s - loss: 6.2731 - acc: 0.0202 - val_loss: 7.0610 - val_acc: 0.0221\n",
      "Epoch 4/7\n",
      "5605/5605 [==============================] - 133s - loss: 6.2145 - acc: 0.0202 - val_loss: 7.1050 - val_acc: 0.0221\n",
      "Epoch 5/7\n",
      "5605/5605 [==============================] - 133s - loss: 6.1433 - acc: 0.0202 - val_loss: 7.1767 - val_acc: 0.0221\n",
      "Epoch 6/7\n",
      "5605/5605 [==============================] - 133s - loss: 6.0800 - acc: 0.0232 - val_loss: 7.1529 - val_acc: 0.0200\n",
      "Epoch 7/7\n",
      "5605/5605 [==============================] - 133s - loss: 6.0034 - acc: 0.0348 - val_loss: 7.2849 - val_acc: 0.0292\n",
      "Train on 4923 samples, validate on 1231 samples\n",
      "Epoch 1/7\n",
      "4923/4923 [==============================] - 119s - loss: 6.8800 - acc: 0.0134 - val_loss: 6.4871 - val_acc: 0.0057\n",
      "Epoch 2/7\n",
      "4923/4923 [==============================] - 118s - loss: 6.0500 - acc: 0.0130 - val_loss: 6.4891 - val_acc: 0.0057\n",
      "Epoch 3/7\n",
      "4923/4923 [==============================] - 118s - loss: 5.9239 - acc: 0.0140 - val_loss: 6.5758 - val_acc: 0.0284\n",
      "Epoch 4/7\n",
      "4923/4923 [==============================] - 118s - loss: 5.8515 - acc: 0.0286 - val_loss: 6.5374 - val_acc: 0.0284\n",
      "Epoch 5/7\n",
      "4923/4923 [==============================] - 118s - loss: 5.7887 - acc: 0.0353 - val_loss: 6.5445 - val_acc: 0.0284\n",
      "Epoch 6/7\n",
      "4923/4923 [==============================] - 118s - loss: 5.7126 - acc: 0.0353 - val_loss: 6.8179 - val_acc: 0.0284\n",
      "Epoch 7/7\n",
      "4923/4923 [==============================] - 118s - loss: 5.6586 - acc: 0.0376 - val_loss: 6.5428 - val_acc: 0.0382\n"
     ]
    },
    {
     "ename": "KeyError",
     "evalue": "1691L",
     "output_type": "error",
     "traceback": [
      "\u001b[0;31m---------------------------------------------------------------------------\u001b[0m",
      "\u001b[0;31mKeyError\u001b[0m                                  Traceback (most recent call last)",
      "\u001b[0;32m<ipython-input-152-10acf99fc11d>\u001b[0m in \u001b[0;36m<module>\u001b[0;34m()\u001b[0m\n\u001b[1;32m     15\u001b[0m \u001b[0mmodel3\u001b[0m\u001b[1;33m=\u001b[0m\u001b[0mmakeModel\u001b[0m\u001b[1;33m(\u001b[0m\u001b[0mmovie3\u001b[0m\u001b[1;33m)\u001b[0m\u001b[1;33m\u001b[0m\u001b[0m\n\u001b[1;32m     16\u001b[0m \u001b[1;33m\u001b[0m\u001b[0m\n\u001b[0;32m---> 17\u001b[0;31m \u001b[0mnewLines1\u001b[0m\u001b[1;33m=\u001b[0m\u001b[0mcreateSentences\u001b[0m\u001b[1;33m(\u001b[0m\u001b[0mmodel1\u001b[0m\u001b[1;33m)\u001b[0m\u001b[1;33m\u001b[0m\u001b[0m\n\u001b[0m\u001b[1;32m     18\u001b[0m \u001b[0mnewLines2\u001b[0m\u001b[1;33m=\u001b[0m\u001b[0mcreateSentences\u001b[0m\u001b[1;33m(\u001b[0m\u001b[0mmodel2\u001b[0m\u001b[1;33m)\u001b[0m\u001b[1;33m\u001b[0m\u001b[0m\n\u001b[1;32m     19\u001b[0m \u001b[0mnewLines3\u001b[0m\u001b[1;33m=\u001b[0m\u001b[0mcreateSentences\u001b[0m\u001b[1;33m(\u001b[0m\u001b[0mmodel3\u001b[0m\u001b[1;33m)\u001b[0m\u001b[1;33m\u001b[0m\u001b[0m\n",
      "\u001b[0;32m<ipython-input-149-6c6fcdc7e3fb>\u001b[0m in \u001b[0;36mcreateSentences\u001b[0;34m(model)\u001b[0m\n\u001b[1;32m      6\u001b[0m         \u001b[0mk\u001b[0m\u001b[1;33m=\u001b[0m\u001b[0mint\u001b[0m\u001b[1;33m(\u001b[0m\u001b[0mrandom\u001b[0m\u001b[1;33m.\u001b[0m\u001b[0mrandom\u001b[0m\u001b[1;33m(\u001b[0m\u001b[1;33m)\u001b[0m\u001b[1;33m*\u001b[0m\u001b[1;36m10\u001b[0m\u001b[1;33m+\u001b[0m\u001b[1;36m2\u001b[0m\u001b[1;33m)\u001b[0m\u001b[1;33m\u001b[0m\u001b[0m\n\u001b[1;32m      7\u001b[0m         \u001b[1;32mfor\u001b[0m \u001b[0mi\u001b[0m \u001b[1;32min\u001b[0m \u001b[0mrange\u001b[0m\u001b[1;33m(\u001b[0m\u001b[1;36m0\u001b[0m\u001b[1;33m,\u001b[0m\u001b[0mk\u001b[0m\u001b[1;33m)\u001b[0m\u001b[1;33m:\u001b[0m\u001b[1;33m\u001b[0m\u001b[0m\n\u001b[0;32m----> 8\u001b[0;31m             \u001b[0mx\u001b[0m\u001b[1;33m=\u001b[0m\u001b[0mget_next\u001b[0m\u001b[1;33m(\u001b[0m\u001b[0mx\u001b[0m\u001b[1;33m,\u001b[0m\u001b[0mtoken\u001b[0m\u001b[1;33m,\u001b[0m\u001b[0mmodel\u001b[0m\u001b[1;33m,\u001b[0m\u001b[0mtext_mtx\u001b[0m\u001b[1;33m,\u001b[0m\u001b[0mtext2\u001b[0m\u001b[1;33m)\u001b[0m\u001b[1;33m\u001b[0m\u001b[0m\n\u001b[0m\u001b[1;32m      9\u001b[0m             \u001b[0my\u001b[0m\u001b[1;33m=\u001b[0m\u001b[0my\u001b[0m\u001b[1;33m+\u001b[0m\u001b[1;34m' '\u001b[0m\u001b[1;33m+\u001b[0m\u001b[0mx\u001b[0m\u001b[1;33m\u001b[0m\u001b[0m\n\u001b[1;32m     10\u001b[0m         \u001b[0mnewLine\u001b[0m\u001b[1;33m.\u001b[0m\u001b[0mappend\u001b[0m\u001b[1;33m(\u001b[0m\u001b[0my\u001b[0m\u001b[1;33m)\u001b[0m\u001b[1;33m\u001b[0m\u001b[0m\n",
      "\u001b[0;32m<ipython-input-148-da653e577cda>\u001b[0m in \u001b[0;36mget_next\u001b[0;34m(text, token, model, fullmtx, fullText)\u001b[0m\n\u001b[1;32m      4\u001b[0m     \u001b[0mp\u001b[0m \u001b[1;33m=\u001b[0m \u001b[0mmodel\u001b[0m\u001b[1;33m.\u001b[0m\u001b[0mpredict\u001b[0m\u001b[1;33m(\u001b[0m\u001b[0mtmp\u001b[0m\u001b[1;33m)\u001b[0m\u001b[1;33m\u001b[0m\u001b[0m\n\u001b[1;32m      5\u001b[0m     \u001b[0mx\u001b[0m\u001b[1;33m=\u001b[0m \u001b[0mnp\u001b[0m\u001b[1;33m.\u001b[0m\u001b[0mrandom\u001b[0m\u001b[1;33m.\u001b[0m\u001b[0mrandom_sample\u001b[0m\u001b[1;33m(\u001b[0m\u001b[1;33m)\u001b[0m\u001b[1;33m*\u001b[0m\u001b[1;36m2000\u001b[0m\u001b[1;33m\u001b[0m\u001b[0m\n\u001b[0;32m----> 6\u001b[0;31m     \u001b[1;32mreturn\u001b[0m \u001b[0mfullText\u001b[0m\u001b[1;33m[\u001b[0m\u001b[0mint\u001b[0m\u001b[1;33m(\u001b[0m\u001b[0mx\u001b[0m\u001b[1;33m)\u001b[0m\u001b[1;33m]\u001b[0m\u001b[1;33m\u001b[0m\u001b[0m\n\u001b[0m",
      "\u001b[0;32mC:\\Users\\Lior\\Anaconda2\\lib\\site-packages\\pandas\\core\\series.pyc\u001b[0m in \u001b[0;36m__getitem__\u001b[0;34m(self, key)\u001b[0m\n\u001b[1;32m    581\u001b[0m         \u001b[0mkey\u001b[0m \u001b[1;33m=\u001b[0m \u001b[0mcom\u001b[0m\u001b[1;33m.\u001b[0m\u001b[0m_apply_if_callable\u001b[0m\u001b[1;33m(\u001b[0m\u001b[0mkey\u001b[0m\u001b[1;33m,\u001b[0m \u001b[0mself\u001b[0m\u001b[1;33m)\u001b[0m\u001b[1;33m\u001b[0m\u001b[0m\n\u001b[1;32m    582\u001b[0m         \u001b[1;32mtry\u001b[0m\u001b[1;33m:\u001b[0m\u001b[1;33m\u001b[0m\u001b[0m\n\u001b[0;32m--> 583\u001b[0;31m             \u001b[0mresult\u001b[0m \u001b[1;33m=\u001b[0m \u001b[0mself\u001b[0m\u001b[1;33m.\u001b[0m\u001b[0mindex\u001b[0m\u001b[1;33m.\u001b[0m\u001b[0mget_value\u001b[0m\u001b[1;33m(\u001b[0m\u001b[0mself\u001b[0m\u001b[1;33m,\u001b[0m \u001b[0mkey\u001b[0m\u001b[1;33m)\u001b[0m\u001b[1;33m\u001b[0m\u001b[0m\n\u001b[0m\u001b[1;32m    584\u001b[0m \u001b[1;33m\u001b[0m\u001b[0m\n\u001b[1;32m    585\u001b[0m             \u001b[1;32mif\u001b[0m \u001b[1;32mnot\u001b[0m \u001b[0mlib\u001b[0m\u001b[1;33m.\u001b[0m\u001b[0misscalar\u001b[0m\u001b[1;33m(\u001b[0m\u001b[0mresult\u001b[0m\u001b[1;33m)\u001b[0m\u001b[1;33m:\u001b[0m\u001b[1;33m\u001b[0m\u001b[0m\n",
      "\u001b[0;32mC:\\Users\\Lior\\Anaconda2\\lib\\site-packages\\pandas\\indexes\\base.pyc\u001b[0m in \u001b[0;36mget_value\u001b[0;34m(self, series, key)\u001b[0m\n\u001b[1;32m   1978\u001b[0m         \u001b[1;32mtry\u001b[0m\u001b[1;33m:\u001b[0m\u001b[1;33m\u001b[0m\u001b[0m\n\u001b[1;32m   1979\u001b[0m             return self._engine.get_value(s, k,\n\u001b[0;32m-> 1980\u001b[0;31m                                           tz=getattr(series.dtype, 'tz', None))\n\u001b[0m\u001b[1;32m   1981\u001b[0m         \u001b[1;32mexcept\u001b[0m \u001b[0mKeyError\u001b[0m \u001b[1;32mas\u001b[0m \u001b[0me1\u001b[0m\u001b[1;33m:\u001b[0m\u001b[1;33m\u001b[0m\u001b[0m\n\u001b[1;32m   1982\u001b[0m             \u001b[1;32mif\u001b[0m \u001b[0mlen\u001b[0m\u001b[1;33m(\u001b[0m\u001b[0mself\u001b[0m\u001b[1;33m)\u001b[0m \u001b[1;33m>\u001b[0m \u001b[1;36m0\u001b[0m \u001b[1;32mand\u001b[0m \u001b[0mself\u001b[0m\u001b[1;33m.\u001b[0m\u001b[0minferred_type\u001b[0m \u001b[1;32min\u001b[0m \u001b[1;33m[\u001b[0m\u001b[1;34m'integer'\u001b[0m\u001b[1;33m,\u001b[0m \u001b[1;34m'boolean'\u001b[0m\u001b[1;33m]\u001b[0m\u001b[1;33m:\u001b[0m\u001b[1;33m\u001b[0m\u001b[0m\n",
      "\u001b[0;32mpandas\\index.pyx\u001b[0m in \u001b[0;36mpandas.index.IndexEngine.get_value (pandas\\index.c:3332)\u001b[0;34m()\u001b[0m\n",
      "\u001b[0;32mpandas\\index.pyx\u001b[0m in \u001b[0;36mpandas.index.IndexEngine.get_value (pandas\\index.c:3035)\u001b[0;34m()\u001b[0m\n",
      "\u001b[0;32mpandas\\index.pyx\u001b[0m in \u001b[0;36mpandas.index.IndexEngine.get_loc (pandas\\index.c:4018)\u001b[0;34m()\u001b[0m\n",
      "\u001b[0;32mpandas\\hashtable.pyx\u001b[0m in \u001b[0;36mpandas.hashtable.Int64HashTable.get_item (pandas\\hashtable.c:6610)\u001b[0;34m()\u001b[0m\n",
      "\u001b[0;32mpandas\\hashtable.pyx\u001b[0m in \u001b[0;36mpandas.hashtable.Int64HashTable.get_item (pandas\\hashtable.c:6554)\u001b[0;34m()\u001b[0m\n",
      "\u001b[0;31mKeyError\u001b[0m: 1691L"
     ]
    }
   ],
   "source": [
    "lines=pd.read_csv(\"C:/Users/Lior/Desktop/FinalProject-master/FinalProject-master/MoviesLines2.csv\")\n",
    "lines1=lines[lines.name == ' casino ']\n",
    "lines2=lines[lines.name == ' chill factor ']\n",
    "lines3=lines[lines.name == ' innerspace ']\n",
    "text1=lines1[\"lines\"]\n",
    "text2=lines2[\"lines\"]\n",
    "text3=lines3[\"lines\"]\n",
    "\n",
    "movie1=' '.join(line for line in text1)\n",
    "movie2=' '.join(line for line in text2)\n",
    "movie3=' '.join(line for line in text3)\n",
    "\n",
    "model1=makeModel(movie1)\n",
    "model2=makeModel(movie2)\n",
    "model3=makeModel(movie3)\n",
    "\n",
    "newLines1=createSentences(model1,movie1)\n",
    "newLines2=createSentences(model2,movie2)\n",
    "newLines3=createSentences(model3,movie3)\n"
   ]
  },
  {
   "cell_type": "markdown",
   "metadata": {},
   "source": [
    "## Create CSV's \n",
    "\n",
    "Next steps:\n",
    "\n",
    "1) create csv for each new lines list\n",
    "2) concat all of them into one file in order to classify them"
   ]
  },
  {
   "cell_type": "code",
   "execution_count": 221,
   "metadata": {
    "collapsed": false
   },
   "outputs": [],
   "source": [
    "df1 = pd.DataFrame(np.array(newLines1))\n",
    "df1.to_csv('C:/Users/Lior/Desktop/FinalProject-master/FinalProject-master/newLines1.csv')\n",
    "df2= pd.DataFrame(np.array(newLines2))\n",
    "df2.to_csv('C:/Users/Lior/Desktop/FinalProject-master/FinalProject-master/newLines2.csv')\n",
    "df3= pd.DataFrame(np.array(newLines3))\n",
    "df3.to_csv('C:/Users/Lior/Desktop/FinalProject-master/FinalProject-master/newLines3.csv')\n",
    "result = pd.concat([df1,df2,df3])\n",
    "result.to_csv('C:/Users/Lior/Desktop/FinalProject-master/FinalProject-master/newLines.csv')"
   ]
  },
  {
   "cell_type": "markdown",
   "metadata": {},
   "source": [
    "## Final step - classiffy\n",
    "\n",
    "Like before\n",
    "\n",
    "1) Read the new Lines\n",
    "2) creare data features\n",
    "3) train the data on the models. \n",
    "4) Plot the results"
   ]
  },
  {
   "cell_type": "code",
   "execution_count": 224,
   "metadata": {
    "collapsed": false
   },
   "outputs": [
    {
     "name": "stdout",
     "output_type": "stream",
     "text": [
      "(1050L, 726L)\n",
      "RandomForestClassifier: 0.73786407767\n",
      "knn: 0.587378640777\n",
      "svm: 0.820388349515\n",
      "DecisionTreeClassifier: 0.650485436893\n",
      "LogisticRegression: 0.839805825243\n"
     ]
    },
    {
     "data": {
      "image/png": "[encoded data removed]",
      "text/plain": [
       "<matplotlib.figure.Figure at 0x10e53eb8>"
      ]
     },
     "metadata": {},
     "output_type": "display_data"
    }
   ],
   "source": [
    "np.random.seed(123)\n",
    "result=pd.read_csv(\"C:/Users/Lior/Desktop/FinalProject-master/FinalProject-master/newLines.csv\")\n",
    "vectorizer = CountVectorizer(analyzer = \"word\", tokenizer = None,preprocessor = None,stop_words = None,max_features = 5000)\n",
    "train_data_features = vectorizer.fit_transform(result['lines'])\n",
    "train_data_features = train_data_features.toarray()\n",
    "vocab = vectorizer.get_feature_names()\n",
    "dist = np.sum(train_data_features, axis=0)\n",
    "print(train_data_features.shape)\n",
    "data=createModels(result)\n",
    "createPlot(data)"
   ]
  },
  {
   "cell_type": "markdown",
   "metadata": {},
   "source": [
    "# Results:\n",
    "\n",
    "** We can see that with the Logistic regressing we got a 0.84 results and 0.82 with svm. **"
   ]
  }
 ],
 "metadata": {
  "anaconda-cloud": {},
  "kernelspec": {
   "display_name": "Python [conda root]",
   "language": "python",
   "name": "conda-root-py"
  },
  "language_info": {
   "codemirror_mode": {
    "name": "ipython",
    "version": 2
   },
   "file_extension": ".py",
   "mimetype": "text/x-python",
   "name": "python",
   "nbconvert_exporter": "python",
   "pygments_lexer": "ipython2",
   "version": "2.7.12"
  }
 },
 "nbformat": 4,
 "nbformat_minor": 2
}
