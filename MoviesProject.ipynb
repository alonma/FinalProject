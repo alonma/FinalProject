{
 "cells": [
  {
   "cell_type": "markdown",
   "metadata": {
    "collapsed": false
   },
   "source": [
    "# Movies Data Project\n",
    "\n",
    "## Miri Hazanov, Alon Maharshak\n",
    "\n",
    "### First step-collect and preapre the data\n",
    "\n"
   ]
  },
  {
   "cell_type": "markdown",
   "metadata": {
    "collapsed": false
   },
   "source": [
    "#### During this project we will work with the \"Cornell Movie-Dialogs Corpus\" created by the Cornell University\n",
    "\n",
    "Our first step is to understand the data.\n",
    "\n",
    "* Import the relevent Packeges \n",
    "* Open the movie titles files and the movie lines file."
   ]
  },
  {
   "cell_type": "code",
   "execution_count": 10,
   "metadata": {
    "collapsed": false
   },
   "outputs": [],
   "source": [
    "import pandas as pd\n",
    "import nltk\n",
    "import re\n",
    "import string \n",
    "\n",
    "fileName='C:/Users/Alon/Desktop/Alon/School/4th year/SemesterB/Data science/Project/Data/cornell movie-dialogs corpus/movie_lines.txt'\n",
    "with open(fileName) as f:\n",
    "    lines = f.readlines()\n",
    "fileName='C:/Users/Alon/Desktop/Alon/School/4th year/SemesterB/Data science/Project/Data/cornell movie-dialogs corpus/movie_titles_metadata.txt'\n",
    "with open(fileName) as f:\n",
    "    titles = f.readlines()"
   ]
  },
  {
   "cell_type": "markdown",
   "metadata": {},
   "source": [
    "Now lets print an exapmle so we can see how our meta data and raw data looks like"
   ]
  },
  {
   "cell_type": "code",
   "execution_count": 11,
   "metadata": {
    "collapsed": false
   },
   "outputs": [
    {
     "name": "stdout",
     "output_type": "stream",
     "text": [
      "m0 +++$+++ 10 things i hate about you +++$+++ 1999 +++$+++ 6.90 +++$+++ 62847 +++$+++ ['comedy', 'romance']\n",
      "\n",
      "L1045 +++$+++ u0 +++$+++ m0 +++$+++ BIANCA +++$+++ They do not!\n",
      "\n"
     ]
    }
   ],
   "source": [
    "print(titles[0])\n",
    "print(lines[0])"
   ]
  },
  {
   "cell_type": "markdown",
   "metadata": {},
   "source": [
    "As we can see, the data has a '+++$+++' seperator, so now we can start work on the data.\n",
    "\n",
    "Our stages we'll be:\n",
    "* Create a list of each genre using the generes list in the titles file\n",
    "* Get the title with the most lines in each genre so well have a lot of lines to work with\n",
    "* Clean the data, getting only the movie line after cleaning of lower case and other unnecessary marks.\n",
    "* Create a csv file with the Line, movie name and movie genre."
   ]
  },
  {
   "cell_type": "markdown",
   "metadata": {},
   "source": [
    "### Create list function:\n",
    "returns a list of all the movie id's that are relevent to a selected genre."
   ]
  },
  {
   "cell_type": "code",
   "execution_count": 12,
   "metadata": {
    "collapsed": true
   },
   "outputs": [],
   "source": [
    "def createList(genre):\n",
    "    ans=[]\n",
    "    for title in titles:\n",
    "        att=title.split('+++$+++')\n",
    "        if genre in att[5]:\n",
    "            ans.append(att[0])\n",
    "    return ans"
   ]
  },
  {
   "cell_type": "markdown",
   "metadata": {},
   "source": [
    "### Get the movie with the most lines function"
   ]
  },
  {
   "cell_type": "code",
   "execution_count": 13,
   "metadata": {
    "collapsed": true
   },
   "outputs": [],
   "source": [
    "def getMaxLines(movielist):\n",
    "    x=0\n",
    "    maxMovie=''\n",
    "    for movie in movielist:\n",
    "        movieline='+++$+++ '+movie+'+++$+++'\n",
    "        movieLines=[line for line in lines if movieline in line]\n",
    "        if len(movieLines)>x:\n",
    "            x=len(movieLines)\n",
    "            maxMovie=movie\n",
    "    return maxMovie"
   ]
  },
  {
   "cell_type": "markdown",
   "metadata": {},
   "source": [
    "### Clean the movie data function\n",
    "\n",
    "* takes the raw line, strips only the movie line.\n",
    "* remove from the movie line unnecessary marks and swtich to lower case \n",
    "* strip the movie name \n",
    "\n",
    "Returns a tuple of the movie name + a list of all the movie lines(clean)"
   ]
  },
  {
   "cell_type": "code",
   "execution_count": 14,
   "metadata": {
    "collapsed": true
   },
   "outputs": [],
   "source": [
    "def cleanMovie(movie):\n",
    "    num=int(movie[1:])\n",
    "    movieLinesRaw=[line for line in lines if '+++$+++ '+ movie+'+++$+++' in line]\n",
    "    MovieLinesClean=[]\n",
    "    results=[]\n",
    "    for line in movieLinesRaw:\n",
    "         att=line.split('+++$+++')\n",
    "         MovieLinesClean.append(att[4])\n",
    "    returnLines=[]\n",
    "    att=titles[num].split('+++$+++')\n",
    "    results.append(att[1])\n",
    "    for line in MovieLinesClean:\n",
    "        line=line.lower()\n",
    "        for char in string.punctuation:\n",
    "            if char!=\"'\":\n",
    "                line = line.replace(char, ' ')\n",
    "        line=' '.join(line.split())\n",
    "        returnLines.append(line)\n",
    "    \n",
    "    results.append(returnLines)\n",
    "    return results"
   ]
  },
  {
   "cell_type": "markdown",
   "metadata": {},
   "source": [
    "### Create CSV files function:"
   ]
  },
  {
   "cell_type": "code",
   "execution_count": 17,
   "metadata": {
    "collapsed": true
   },
   "outputs": [],
   "source": [
    "def makeCsv(movie,name,genre):\n",
    "    df=pd.DataFrame()\n",
    "    df['lines']=movie\n",
    "    df['name']=name\n",
    "    df['type']=genre\n",
    "    df.to_csv('C:/Users/Alon/Desktop/Alon/School/4th year/SemesterB/Data science/Project/Data/'+genre+'Lines.csv')\n",
    "    return df"
   ]
  },
  {
   "cell_type": "markdown",
   "metadata": {},
   "source": [
    "Now we can activate all of the stages for all the 3 genres and concatene them into one csv file:"
   ]
  },
  {
   "cell_type": "code",
   "execution_count": 18,
   "metadata": {
    "collapsed": false
   },
   "outputs": [],
   "source": [
    "adventureList=createList('adventure') \n",
    "dramaList=createList('drama') \n",
    "comedyList=createList('comedy') \n",
    "\n",
    "maxAdventure=getMaxLines(adventureList)\n",
    "maxDrama=getMaxLines(dramaList)\n",
    "maxComedy=getMaxLines(comedyList)\n",
    "\n",
    "movieDrama=cleanMovie(maxDrama)\n",
    "movieComedy=cleanMovie(maxComedy)\n",
    "movieAdventure=cleanMovie(maxAdventure)\n",
    "\n",
    "dramaDf=makeCsv(movieDrama[1],movieDrama[0],'Drama')\n",
    "comedyDf=makeCsv(movieComedy[1],movieComedy[0],'Comedy')\n",
    "AdventureDf=makeCsv(movieAdventure[1],movieAdventure[0],'Adventure')\n",
    "\n",
    "result = pd.concat([dramaDf,comedyDf,AdventureDf])\n",
    "result.to_csv('C:/Users/Alon/Desktop/Alon/School/4th year/SemesterB/Data science/Project/Data/MoviesLines.csv')"
   ]
  }
 ],
 "metadata": {
  "kernelspec": {
   "display_name": "Python 3",
   "language": "python",
   "name": "python3"
  },
  "language_info": {
   "codemirror_mode": {
    "name": "ipython",
    "version": 3
   },
   "file_extension": ".py",
   "mimetype": "text/x-python",
   "name": "python",
   "nbconvert_exporter": "python",
   "pygments_lexer": "ipython3",
   "version": "3.6.0"
  }
 },
 "nbformat": 4,
 "nbformat_minor": 2
}
